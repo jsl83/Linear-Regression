{
 "cells": [
  {
   "cell_type": "markdown",
   "metadata": {},
   "source": [
    "# Ames, Iowa Housing Data - Model Fitting and Evaluation\n",
    "\n",
    "In this notebook, we create our linear regression model and evaluate the performance of the model using a number of metrics. This notebook contains the following sections:\n",
    "- [Linear Regression Model Fitting](#Linear-Regression-Model-Fitting)\n",
    "- [Model Evaluation](#Model-Evaluation)\n",
    "- [Model Iterations](#Model-Iterations)"
   ]
  },
  {
   "cell_type": "code",
   "execution_count": 1,
   "metadata": {},
   "outputs": [],
   "source": [
    "# Import relevant libraries\n",
    "\n",
    "import numpy as np\n",
    "import matplotlib.pyplot as plt\n",
    "import pandas as pd\n",
    "from sklearn import metrics\n",
    "from sklearn.model_selection import train_test_split, cross_val_score\n",
    "from sklearn.preprocessing import StandardScaler\n",
    "from sklearn.linear_model import LassoCV, RidgeCV, LinearRegression\n",
    "from general_functions import LeeFunctions as lf\n"
   ]
  },
  {
   "cell_type": "code",
   "execution_count": 2,
   "metadata": {},
   "outputs": [],
   "source": [
    "%%capture\n",
    "%store -r datasets\n",
    "\n",
    "# Retrieve our cleaned and prepped data sets from the EDA notebook. If that notebook has not been run yet in the kernel, this runs that file first then retrieves the data\n",
    "\n",
    "try:\n",
    "    datasets\n",
    "except:\n",
    "    %run ./p2_eda.ipynb\n",
    "    %store -r datasets\n",
    "    \n",
    "y = datasets[2]\n",
    "datasets = datasets[:2]"
   ]
  },
  {
   "cell_type": "markdown",
   "metadata": {},
   "source": [
    "## Linear Regression Model Fitting\n",
    "Using the cleaned data, we first scale the variables that are numerical. While not strictly necessary for linear regression, it is usually not detrimental and allows the data to be used in other types of models such as Lasso. For our purposes, however, our primary model will be a multi-linear regression (MLS) model with house sale prices as our target variable. In an effort to mitigate heteroscedasticity, we fit our model to the log of sale price"
   ]
  },
  {
   "cell_type": "code",
   "execution_count": 3,
   "metadata": {},
   "outputs": [],
   "source": [
    "# Split our training data into train/test data sets in order to properly train and evaluate our model. We select here a 70/30 train/test split\n",
    "\n",
    "xtrain, xtest, ytrain, ytest = train_test_split(datasets[0], y, test_size=0.3, random_state=42)\n",
    "xtrain, xtest = xtrain.copy(), xtest.copy()"
   ]
  },
  {
   "cell_type": "code",
   "execution_count": 4,
   "metadata": {},
   "outputs": [],
   "source": [
    "# Scale the features listed below in list [scales] - using the standard scaler, this converts the values in these features to z-scores\n",
    "\n",
    "scales = ['age','total_bsmt_sf','garage_area', 'gr_liv_area']\n",
    "\n",
    "ss = StandardScaler()\n",
    "ss.fit(xtrain[scales])\n",
    "\n",
    "for frame in [xtrain,xtest,datasets[1]]:\n",
    "    lf.scale_frame(frame, scales, ss)"
   ]
  },
  {
   "cell_type": "code",
   "execution_count": 5,
   "metadata": {},
   "outputs": [],
   "source": [
    "# Instantiate and fit our multiple linear regression model. As stated above, we use the log of sale price as our target variable for the fit. Generate predicted values for both training\n",
    "# and test data sets using the fitted model\n",
    "\n",
    "lr = LinearRegression()\n",
    "lr.fit(xtrain, np.log(ytrain))\n",
    "\n",
    "train_pred = np.exp(lr.predict(xtrain))\n",
    "test_pred = np.exp(lr.predict(xtest))\n",
    "\n",
    "# Create a list that compiles relevant objects to pass to the visualization notebook: model data sets, fit scaler, and fit linear regression model\n",
    "model_pass = [datasets, ss, lr]"
   ]
  },
  {
   "cell_type": "markdown",
   "metadata": {},
   "source": [
    "## Model Evaluation\n",
    "We evaluate our model using a number of different metrics, as well as determining if some of the assumptions necessary for linear regression hold true for our data. These metrics are the values by which we determine how effective our model is at predicting sale prices of the test data set. As will be described later, previous iterations of the model generally had lower scores; specifically for the R<sup>2</sup> value and root mean squared error (RMSE)"
   ]
  },
  {
   "cell_type": "code",
   "execution_count": 6,
   "metadata": {},
   "outputs": [
    {
     "name": "stdout",
     "output_type": "stream",
     "text": [
      "Training R2: 0.894\n",
      "Test R2: 0.914\n",
      "Training RMSE: 25425\n",
      "Test RMSE: 23966\n",
      "Cross Validation Score: 0.858\n"
     ]
    }
   ],
   "source": [
    "# Calculate the R^2, RMSE values and the cross value score for our model\n",
    "\n",
    "train_rmse = int((metrics.mean_squared_error(ytrain, train_pred))**0.5)\n",
    "test_rmse = int((metrics.mean_squared_error(ytest, test_pred))**0.5)\n",
    "train_r2 = round(metrics.r2_score(ytrain, train_pred),3)\n",
    "test_r2 = round(metrics.r2_score(ytest, test_pred),3)\n",
    "\n",
    "print(f'Training R2: {train_r2}\\nTest R2: {test_r2}\\nTraining RMSE: {train_rmse}')\n",
    "print(f'Test RMSE: {test_rmse}\\nCross Validation Score: {round(cross_val_score(lr, xtrain, np.log(ytrain)).mean(),3)}')"
   ]
  },
  {
   "cell_type": "markdown",
   "metadata": {},
   "source": [
    "When considering R<sup>2</sup> values, it is generally important to consider two things: the absolute value of the R<sup>2</sup> and the difference between the training and test R<sup>2</sup>. In looking at these two factors, we are trying to optimize our [bias-variance tradeoff](https://en.wikipedia.org/wiki/Bias%E2%80%93variance_tradeoff). Bias is minimized when our R<sup>2</sup> values approach 1 (a perfect fit). From our data, our R<sup>2</sup> values are approximately 0.9, which means our model can account for around 90% of the exhibited variance in sale price, which is good. Variance (overfitting) is minimized by when the test and training R<sup>2</sup>s are close to one another, which again, our model displays, as the two scores are within 0.02 of one another. High variance is marked by higher scores for training data in comparison to test data. The cross validation score similarly tests for overfitting, and although the score drops slightly, the model is still fairly accurate (~85%). RMSE is another metric closely related to R<sup>2</sup>, but is useful for depicting the (sort of) average of our error in the same units as the target variable. Our models are, on average, around $25,000 dollars off of the actual sale price (perfect RMSE would be 0)."
   ]
  },
  {
   "cell_type": "markdown",
   "metadata": {},
   "source": [
    "Visually, we can assess our performance by comparing our predicted prices to the actual prices (blue line is perfect fit), and find that our predictions do cluster around that perfect fit line"
   ]
  },
  {
   "cell_type": "code",
   "execution_count": 7,
   "metadata": {},
   "outputs": [
    {
     "data": {
      "image/png": "[encoded data removed]",
      "text/plain": [
       "<Figure size 432x288 with 1 Axes>"
      ]
     },
     "metadata": {},
     "output_type": "display_data"
    }
   ],
   "source": [
    "lf.create_scatter(ytest, test_pred, title='Predicted vs. Actual Sale Price', xlabel='Actual Price ($)', ylabel='Predicted Price ($)', fitline=[[0,600000],[0,600000]])"
   ]
  },
  {
   "cell_type": "markdown",
   "metadata": {},
   "source": [
    "### Assumptions\n",
    "We can also evaluate how well our model follows some key assumptions necessary for linear regression, sometimes referred to as the [LINE assumptions](https://math.stackexchange.com/questions/1530571/linear-regression-model-assumptions/1533681):\n",
    "- Linearity: Linear relationship between the dependent variable and each independent variable. We do observe linear relationships when we examine the pairplot we generated previously during our [EDA](p2_eda.ipynb)\n",
    "- Independent observations: The sale price of one house should not affect the sale price of another house. While the market pricing of houses is likely affected by some greater trends, individual house sales are unlikely to affect the next\n",
    "- Normal distribution of errors: From the plot (below, left) of the distribution of our residuals, we do observe a fairly normal distribution\n",
    "- Equal variance (homoscedasticity): From the plot (below, right) of the residuals against the target variable, the residuals are fairly random for low sale prices, although we do observe some spread as sale prices grow larger ('fanning'), so this assumption may be loosely met, or the model is missing some elements\n",
    "\n",
    "In addition, for multiple linear regression, there is an additional assumption that the independent variables are all independent to one another. During our model preparation, we tried to select variables that were in unique spaces (not having two variables related to garages, for example), so that this assumption would be met"
   ]
  },
  {
   "cell_type": "code",
   "execution_count": 8,
   "metadata": {},
   "outputs": [],
   "source": [
    "%%capture\n",
    "\n",
    "lf.create_hist(ytest-test_pred, bins=50, title='Model Residuals', ylabel='counts', xlabel='Residual Value');\n",
    "lf.create_scatter(ytest, ytest-test_pred, title='Residual vs. Test Value', ylabel='Residual ($)', xlabel='Sale Price ($)');"
   ]
  },
  {
   "cell_type": "markdown",
   "metadata": {},
   "source": [
    "![](../images/residual_plots.png)"
   ]
  },
  {
   "cell_type": "markdown",
   "metadata": {},
   "source": [
    "### Regularization\n",
    "Due to the inclusion of categorical variables that have been dummied out, performing regularization using lasso or ridge regressions is not necessarily optimal. However, it can still provide some insight into how well our model fits. Particularly, we again look at the R<sup>2</sup> values, and alpha levels. Smaller alpha levels indicate that the regularization methods are not drastically shrinking or eliminating coefficients. This is further reinforced by determining which coefficients equal 0 in our lasso fit. All of the removed variables are dummy columns belonging to the neighborhood features, meaning that all of our numerical values are determined to be contributing to the model. The default 5-fold validation was used for both Lasso and Ridge"
   ]
  },
  {
   "cell_type": "code",
   "execution_count": 9,
   "metadata": {},
   "outputs": [
    {
     "name": "stdout",
     "output_type": "stream",
     "text": [
      "Lasso R2: 0.869\n",
      "Alpha: 0.00029\n",
      "{'neighborhood_Blueste': 0.0, 'neighborhood_CollgCr': -0.0, 'neighborhood_Greens': 0.0, 'neighborhood_Landmrk': -0.0, 'neighborhood_NPkVill': -0.0, 'neighborhood_SawyerW': -0.0}\n"
     ]
    }
   ],
   "source": [
    "# Lasso regression model. Print R2, alpha, and zero coefficient variables\n",
    "\n",
    "lasso = LassoCV()\n",
    "lasso.fit(xtrain, np.log(ytrain))\n",
    "print(f'Lasso R2: {round(lasso.score(xtrain, np.log(ytrain)),3)}\\nAlpha: {round(lasso.alpha_,6)}')\n",
    "print({xtrain.columns[x]: lasso.coef_[x] for x in range(len(xtrain.columns)) if lasso.coef_[x] == 0})"
   ]
  },
  {
   "cell_type": "code",
   "execution_count": 10,
   "metadata": {},
   "outputs": [
    {
     "name": "stdout",
     "output_type": "stream",
     "text": [
      "Ridge R2: 0.872\n",
      "Alpha: 0.1\n"
     ]
    }
   ],
   "source": [
    "# Ridge regression model. Print R2 and alpha\n",
    "\n",
    "ridge = RidgeCV()\n",
    "ridge.fit(xtrain, np.log(ytrain))\n",
    "print(f'Ridge R2: {round(ridge.score(xtrain, np.log(ytrain)),3)}\\nAlpha: {round(ridge.alpha_,6)}')"
   ]
  },
  {
   "cell_type": "markdown",
   "metadata": {},
   "source": [
    "## Model Iterations\n",
    "Creating an optimized model is an iterative process, involving selecting model and data parameters, testing the model, and then going back to modify the model based on the previous results. The model described here is the final iteration, but numerous other variables and configurations were tested. We list here a summary of the variable and features tested that were not included in this final version. Initial variable selection did not use as structured approach as was eventually used (and described) to create the final models. Attempted variables were added, found to have minimal change, and then removed"
   ]
  },
  {
   "cell_type": "markdown",
   "metadata": {},
   "source": [
    "Initial model: Utilities, building type, overall condition, heating qc, central air, grade living area, miscellaneous value\n",
    "  - R<sup>2</sup>: 0.626\n",
    "  - RMSE = 49699  \n",
    "\n",
    "Iteration 2  \n",
    "- Drop: Miscellaneous value, utilities, central air  \n",
    "- Add: Age  \n",
    "- Attempt: Presence of pool (pool size > 0)  \n",
    "  - R<sup>2</sup>: 0.665\n",
    "  - RMSE: 46858\n",
    "\n",
    "Iteration 3\n",
    "- Add: Neighborhood\n",
    "- Attempt: Total rooms above grade, garage type\n",
    "  - R<sup>2</sup>: 0.790\n",
    "  - RMSE: 37152\n",
    "\n",
    "Iteration 4\n",
    "- Add: Overall quality, garage area\n",
    "- Remove: Overall condition, heating qc\n",
    "  - R<sup>2</sup>: 0.847\n",
    "  - RMSE: 31634\n",
    "\n",
    "Iteration 5\n",
    "- Modify: Overall quality collapsed to 5 bins\n",
    "  - R<sup>2</sup>: 0.832\n",
    "  - RMSE: 32410\n",
    "\n",
    "Iteration 6\n",
    "- Add: Polynomial features for all variables\n",
    "- Increases R<sup>2</sup> but balloons column count to 740 and is very overfitted\n",
    "  - R<sup>2</sup>: 0.877\n",
    "  - RMSE: 29464\n",
    "  - Cross Validation Score: 0.699\n",
    "\n",
    "Iteration 7 \n",
    "- Add: Full baths\n",
    "- Drop: Reduced polynomial features for only discrete or continuous variables\n",
    "- Attempt: Month sold\n",
    "- Cross validation score and Kaggle submission score decreased, revert model to iteration 5\n",
    "  - R<sup>2</sup>: 0.86\n",
    "  - RMSE: 28863\n",
    "\n",
    "Iteration 8: Final\n",
    "- Applied more systematic approach to variable selection\n",
    "  - R<sup>2</sup>: 0.894\n",
    "  - RMSE: 25425"
   ]
  },
  {
   "cell_type": "markdown",
   "metadata": {},
   "source": [
    "## Kaggle Price Predictions"
   ]
  },
  {
   "cell_type": "code",
   "execution_count": 11,
   "metadata": {},
   "outputs": [],
   "source": [
    "# Create predicted prices for submission and write to csv file\n",
    "\n",
    "test = pd.read_csv('../datasets/test.csv')\n",
    "predict = np.exp(lr.predict(datasets[1]))\n",
    "solution = pd.DataFrame(index=range(878), columns=['Id', 'SalePrice'])\n",
    "solution['SalePrice'] = predict\n",
    "solution['Id'] = list(test['Id'])\n",
    "solution.set_index('Id', inplace=True, drop=False)\n",
    "solution.sort_index(inplace=True)\n",
    "solution.to_csv('../datasets/p2_lee_predict.csv', index = False)"
   ]
  },
  {
   "cell_type": "code",
   "execution_count": 12,
   "metadata": {},
   "outputs": [],
   "source": [
    "%%capture\n",
    "%store model_pass\n",
    "\n",
    "# Store our cleaned and prepped data sets to pass to our modeling notebook"
   ]
  }
 ],
 "metadata": {
  "kernelspec": {
   "display_name": "Python 3",
   "language": "python",
   "name": "python3"
  },
  "language_info": {
   "codemirror_mode": {
    "name": "ipython",
    "version": 3
   },
   "file_extension": ".py",
   "mimetype": "text/x-python",
   "name": "python",
   "nbconvert_exporter": "python",
   "pygments_lexer": "ipython3",
   "version": "3.7.6"
  }
 },
 "nbformat": 4,
 "nbformat_minor": 4
}
